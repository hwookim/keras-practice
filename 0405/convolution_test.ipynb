{
 "cells": [
  {
   "cell_type": "code",
   "execution_count": 1,
   "metadata": {
    "collapsed": true
   },
   "outputs": [],
   "source": [
    "import numpy\n",
    "from keras.models import Sequential\n",
    "from keras.layers import Dense\n",
    "from keras.layers import Flatten\n",
    "from keras.layers.convolutional import Conv2D\n",
    "from keras.layers.convolutional import MaxPooling2D\n",
    "from keras.utils import np_utils\n",
    "\n",
    "model = Sequential()\n",
    "\n",
    "model.add(Conv2D(2, (3, 3), padding='same', activation='relu', input_shape=(8, 8, 1)))\n",
    "model.add(MaxPooling2D(pool_size=(2, 2)))\n",
    "model.add(Conv2D(3, (2, 2), padding='same', activation='relu'))\n",
    "model.add(MaxPooling2D(pool_size=(2, 2)))\n",
    "model.add(Flatten())\n",
    "model.add(Dense(8, activation='relu'))\n",
    "model.add(Dense(3, activation='softmax'))"
   ]
  },
  {
   "cell_type": "code",
   "execution_count": 2,
   "outputs": [
    {
     "data": {
      "text/plain": "<IPython.core.display.SVG object>",
      "image/svg+xml": "<svg height=\"565pt\" viewBox=\"0.00 0.00 368.00 636.00\" width=\"327pt\" xmlns=\"http://www.w3.org/2000/svg\" xmlns:xlink=\"http://www.w3.org/1999/xlink\">\n<g class=\"graph\" id=\"graph0\" transform=\"scale(0.89 0.89) rotate(0) translate(4 632)\">\n<title>G</title>\n<polygon fill=\"white\" points=\"-4,4 -4,-632 364,-632 364,4 -4,4\" stroke=\"transparent\"/>\n<!-- 5580947600 -->\n<g class=\"node\" id=\"node1\">\n<title>5580947600</title>\n<polygon fill=\"none\" points=\"20,-581.5 20,-627.5 340,-627.5 340,-581.5 20,-581.5\" stroke=\"black\"/>\n<text font-family=\"Times,serif\" font-size=\"14.00\" text-anchor=\"middle\" x=\"99\" y=\"-600.8\">conv2d_input: InputLayer</text>\n<polyline fill=\"none\" points=\"178,-581.5 178,-627.5 \" stroke=\"black\"/>\n<text font-family=\"Times,serif\" font-size=\"14.00\" text-anchor=\"middle\" x=\"205.5\" y=\"-612.3\">input:</text>\n<polyline fill=\"none\" points=\"178,-604.5 233,-604.5 \" stroke=\"black\"/>\n<text font-family=\"Times,serif\" font-size=\"14.00\" text-anchor=\"middle\" x=\"205.5\" y=\"-589.3\">output:</text>\n<polyline fill=\"none\" points=\"233,-581.5 233,-627.5 \" stroke=\"black\"/>\n<text font-family=\"Times,serif\" font-size=\"14.00\" text-anchor=\"middle\" x=\"286.5\" y=\"-612.3\">[(None, 8, 8, 1)]</text>\n<polyline fill=\"none\" points=\"233,-604.5 340,-604.5 \" stroke=\"black\"/>\n<text font-family=\"Times,serif\" font-size=\"14.00\" text-anchor=\"middle\" x=\"286.5\" y=\"-589.3\">[(None, 8, 8, 1)]</text>\n</g>\n<!-- 4472183440 -->\n<g class=\"node\" id=\"node2\">\n<title>4472183440</title>\n<polygon fill=\"none\" points=\"48.5,-498.5 48.5,-544.5 311.5,-544.5 311.5,-498.5 48.5,-498.5\" stroke=\"black\"/>\n<text font-family=\"Times,serif\" font-size=\"14.00\" text-anchor=\"middle\" x=\"103.5\" y=\"-517.8\">conv2d: Conv2D</text>\n<polyline fill=\"none\" points=\"158.5,-498.5 158.5,-544.5 \" stroke=\"black\"/>\n<text font-family=\"Times,serif\" font-size=\"14.00\" text-anchor=\"middle\" x=\"186\" y=\"-529.3\">input:</text>\n<polyline fill=\"none\" points=\"158.5,-521.5 213.5,-521.5 \" stroke=\"black\"/>\n<text font-family=\"Times,serif\" font-size=\"14.00\" text-anchor=\"middle\" x=\"186\" y=\"-506.3\">output:</text>\n<polyline fill=\"none\" points=\"213.5,-498.5 213.5,-544.5 \" stroke=\"black\"/>\n<text font-family=\"Times,serif\" font-size=\"14.00\" text-anchor=\"middle\" x=\"262.5\" y=\"-529.3\">(None, 8, 8, 1)</text>\n<polyline fill=\"none\" points=\"213.5,-521.5 311.5,-521.5 \" stroke=\"black\"/>\n<text font-family=\"Times,serif\" font-size=\"14.00\" text-anchor=\"middle\" x=\"262.5\" y=\"-506.3\">(None, 8, 8, 2)</text>\n</g>\n<!-- 5580947600&#45;&gt;4472183440 -->\n<g class=\"edge\" id=\"edge1\">\n<title>5580947600-&gt;4472183440</title>\n<path d=\"M180,-581.37C180,-573.15 180,-563.66 180,-554.73\" fill=\"none\" stroke=\"black\"/>\n<polygon fill=\"black\" points=\"183.5,-554.61 180,-544.61 176.5,-554.61 183.5,-554.61\" stroke=\"black\"/>\n</g>\n<!-- 5576036496 -->\n<g class=\"node\" id=\"node3\">\n<title>5576036496</title>\n<polygon fill=\"none\" points=\"6.5,-415.5 6.5,-461.5 353.5,-461.5 353.5,-415.5 6.5,-415.5\" stroke=\"black\"/>\n<text font-family=\"Times,serif\" font-size=\"14.00\" text-anchor=\"middle\" x=\"103.5\" y=\"-434.8\">max_pooling2d: MaxPooling2D</text>\n<polyline fill=\"none\" points=\"200.5,-415.5 200.5,-461.5 \" stroke=\"black\"/>\n<text font-family=\"Times,serif\" font-size=\"14.00\" text-anchor=\"middle\" x=\"228\" y=\"-446.3\">input:</text>\n<polyline fill=\"none\" points=\"200.5,-438.5 255.5,-438.5 \" stroke=\"black\"/>\n<text font-family=\"Times,serif\" font-size=\"14.00\" text-anchor=\"middle\" x=\"228\" y=\"-423.3\">output:</text>\n<polyline fill=\"none\" points=\"255.5,-415.5 255.5,-461.5 \" stroke=\"black\"/>\n<text font-family=\"Times,serif\" font-size=\"14.00\" text-anchor=\"middle\" x=\"304.5\" y=\"-446.3\">(None, 8, 8, 2)</text>\n<polyline fill=\"none\" points=\"255.5,-438.5 353.5,-438.5 \" stroke=\"black\"/>\n<text font-family=\"Times,serif\" font-size=\"14.00\" text-anchor=\"middle\" x=\"304.5\" y=\"-423.3\">(None, 4, 4, 2)</text>\n</g>\n<!-- 4472183440&#45;&gt;5576036496 -->\n<g class=\"edge\" id=\"edge2\">\n<title>4472183440-&gt;5576036496</title>\n<path d=\"M180,-498.37C180,-490.15 180,-480.66 180,-471.73\" fill=\"none\" stroke=\"black\"/>\n<polygon fill=\"black\" points=\"183.5,-471.61 180,-461.61 176.5,-471.61 183.5,-471.61\" stroke=\"black\"/>\n</g>\n<!-- 5580573072 -->\n<g class=\"node\" id=\"node4\">\n<title>5580573072</title>\n<polygon fill=\"none\" points=\"42,-332.5 42,-378.5 318,-378.5 318,-332.5 42,-332.5\" stroke=\"black\"/>\n<text font-family=\"Times,serif\" font-size=\"14.00\" text-anchor=\"middle\" x=\"103.5\" y=\"-351.8\">conv2d_1: Conv2D</text>\n<polyline fill=\"none\" points=\"165,-332.5 165,-378.5 \" stroke=\"black\"/>\n<text font-family=\"Times,serif\" font-size=\"14.00\" text-anchor=\"middle\" x=\"192.5\" y=\"-363.3\">input:</text>\n<polyline fill=\"none\" points=\"165,-355.5 220,-355.5 \" stroke=\"black\"/>\n<text font-family=\"Times,serif\" font-size=\"14.00\" text-anchor=\"middle\" x=\"192.5\" y=\"-340.3\">output:</text>\n<polyline fill=\"none\" points=\"220,-332.5 220,-378.5 \" stroke=\"black\"/>\n<text font-family=\"Times,serif\" font-size=\"14.00\" text-anchor=\"middle\" x=\"269\" y=\"-363.3\">(None, 4, 4, 2)</text>\n<polyline fill=\"none\" points=\"220,-355.5 318,-355.5 \" stroke=\"black\"/>\n<text font-family=\"Times,serif\" font-size=\"14.00\" text-anchor=\"middle\" x=\"269\" y=\"-340.3\">(None, 4, 4, 3)</text>\n</g>\n<!-- 5576036496&#45;&gt;5580573072 -->\n<g class=\"edge\" id=\"edge3\">\n<title>5576036496-&gt;5580573072</title>\n<path d=\"M180,-415.37C180,-407.15 180,-397.66 180,-388.73\" fill=\"none\" stroke=\"black\"/>\n<polygon fill=\"black\" points=\"183.5,-388.61 180,-378.61 176.5,-388.61 183.5,-388.61\" stroke=\"black\"/>\n</g>\n<!-- 5580348624 -->\n<g class=\"node\" id=\"node5\">\n<title>5580348624</title>\n<polygon fill=\"none\" points=\"0,-249.5 0,-295.5 360,-295.5 360,-249.5 0,-249.5\" stroke=\"black\"/>\n<text font-family=\"Times,serif\" font-size=\"14.00\" text-anchor=\"middle\" x=\"103.5\" y=\"-268.8\">max_pooling2d_1: MaxPooling2D</text>\n<polyline fill=\"none\" points=\"207,-249.5 207,-295.5 \" stroke=\"black\"/>\n<text font-family=\"Times,serif\" font-size=\"14.00\" text-anchor=\"middle\" x=\"234.5\" y=\"-280.3\">input:</text>\n<polyline fill=\"none\" points=\"207,-272.5 262,-272.5 \" stroke=\"black\"/>\n<text font-family=\"Times,serif\" font-size=\"14.00\" text-anchor=\"middle\" x=\"234.5\" y=\"-257.3\">output:</text>\n<polyline fill=\"none\" points=\"262,-249.5 262,-295.5 \" stroke=\"black\"/>\n<text font-family=\"Times,serif\" font-size=\"14.00\" text-anchor=\"middle\" x=\"311\" y=\"-280.3\">(None, 4, 4, 3)</text>\n<polyline fill=\"none\" points=\"262,-272.5 360,-272.5 \" stroke=\"black\"/>\n<text font-family=\"Times,serif\" font-size=\"14.00\" text-anchor=\"middle\" x=\"311\" y=\"-257.3\">(None, 2, 2, 3)</text>\n</g>\n<!-- 5580573072&#45;&gt;5580348624 -->\n<g class=\"edge\" id=\"edge4\">\n<title>5580573072-&gt;5580348624</title>\n<path d=\"M180,-332.37C180,-324.15 180,-314.66 180,-305.73\" fill=\"none\" stroke=\"black\"/>\n<polygon fill=\"black\" points=\"183.5,-305.61 180,-295.61 176.5,-305.61 183.5,-305.61\" stroke=\"black\"/>\n</g>\n<!-- 5580614032 -->\n<g class=\"node\" id=\"node6\">\n<title>5580614032</title>\n<polygon fill=\"none\" points=\"56,-166.5 56,-212.5 304,-212.5 304,-166.5 56,-166.5\" stroke=\"black\"/>\n<text font-family=\"Times,serif\" font-size=\"14.00\" text-anchor=\"middle\" x=\"103.5\" y=\"-185.8\">flatten: Flatten</text>\n<polyline fill=\"none\" points=\"151,-166.5 151,-212.5 \" stroke=\"black\"/>\n<text font-family=\"Times,serif\" font-size=\"14.00\" text-anchor=\"middle\" x=\"178.5\" y=\"-197.3\">input:</text>\n<polyline fill=\"none\" points=\"151,-189.5 206,-189.5 \" stroke=\"black\"/>\n<text font-family=\"Times,serif\" font-size=\"14.00\" text-anchor=\"middle\" x=\"178.5\" y=\"-174.3\">output:</text>\n<polyline fill=\"none\" points=\"206,-166.5 206,-212.5 \" stroke=\"black\"/>\n<text font-family=\"Times,serif\" font-size=\"14.00\" text-anchor=\"middle\" x=\"255\" y=\"-197.3\">(None, 2, 2, 3)</text>\n<polyline fill=\"none\" points=\"206,-189.5 304,-189.5 \" stroke=\"black\"/>\n<text font-family=\"Times,serif\" font-size=\"14.00\" text-anchor=\"middle\" x=\"255\" y=\"-174.3\">(None, 12)</text>\n</g>\n<!-- 5580348624&#45;&gt;5580614032 -->\n<g class=\"edge\" id=\"edge5\">\n<title>5580348624-&gt;5580614032</title>\n<path d=\"M180,-249.37C180,-241.15 180,-231.66 180,-222.73\" fill=\"none\" stroke=\"black\"/>\n<polygon fill=\"black\" points=\"183.5,-222.61 180,-212.61 176.5,-222.61 183.5,-222.61\" stroke=\"black\"/>\n</g>\n<!-- 5457391056 -->\n<g class=\"node\" id=\"node7\">\n<title>5457391056</title>\n<polygon fill=\"none\" points=\"70,-83.5 70,-129.5 290,-129.5 290,-83.5 70,-83.5\" stroke=\"black\"/>\n<text font-family=\"Times,serif\" font-size=\"14.00\" text-anchor=\"middle\" x=\"114.5\" y=\"-102.8\">dense: Dense</text>\n<polyline fill=\"none\" points=\"159,-83.5 159,-129.5 \" stroke=\"black\"/>\n<text font-family=\"Times,serif\" font-size=\"14.00\" text-anchor=\"middle\" x=\"186.5\" y=\"-114.3\">input:</text>\n<polyline fill=\"none\" points=\"159,-106.5 214,-106.5 \" stroke=\"black\"/>\n<text font-family=\"Times,serif\" font-size=\"14.00\" text-anchor=\"middle\" x=\"186.5\" y=\"-91.3\">output:</text>\n<polyline fill=\"none\" points=\"214,-83.5 214,-129.5 \" stroke=\"black\"/>\n<text font-family=\"Times,serif\" font-size=\"14.00\" text-anchor=\"middle\" x=\"252\" y=\"-114.3\">(None, 12)</text>\n<polyline fill=\"none\" points=\"214,-106.5 290,-106.5 \" stroke=\"black\"/>\n<text font-family=\"Times,serif\" font-size=\"14.00\" text-anchor=\"middle\" x=\"252\" y=\"-91.3\">(None, 8)</text>\n</g>\n<!-- 5580614032&#45;&gt;5457391056 -->\n<g class=\"edge\" id=\"edge6\">\n<title>5580614032-&gt;5457391056</title>\n<path d=\"M180,-166.37C180,-158.15 180,-148.66 180,-139.73\" fill=\"none\" stroke=\"black\"/>\n<polygon fill=\"black\" points=\"183.5,-139.61 180,-129.61 176.5,-139.61 183.5,-139.61\" stroke=\"black\"/>\n</g>\n<!-- 5457492496 -->\n<g class=\"node\" id=\"node8\">\n<title>5457492496</title>\n<polygon fill=\"none\" points=\"67,-0.5 67,-46.5 293,-46.5 293,-0.5 67,-0.5\" stroke=\"black\"/>\n<text font-family=\"Times,serif\" font-size=\"14.00\" text-anchor=\"middle\" x=\"118\" y=\"-19.8\">dense_1: Dense</text>\n<polyline fill=\"none\" points=\"169,-0.5 169,-46.5 \" stroke=\"black\"/>\n<text font-family=\"Times,serif\" font-size=\"14.00\" text-anchor=\"middle\" x=\"196.5\" y=\"-31.3\">input:</text>\n<polyline fill=\"none\" points=\"169,-23.5 224,-23.5 \" stroke=\"black\"/>\n<text font-family=\"Times,serif\" font-size=\"14.00\" text-anchor=\"middle\" x=\"196.5\" y=\"-8.3\">output:</text>\n<polyline fill=\"none\" points=\"224,-0.5 224,-46.5 \" stroke=\"black\"/>\n<text font-family=\"Times,serif\" font-size=\"14.00\" text-anchor=\"middle\" x=\"258.5\" y=\"-31.3\">(None, 8)</text>\n<polyline fill=\"none\" points=\"224,-23.5 293,-23.5 \" stroke=\"black\"/>\n<text font-family=\"Times,serif\" font-size=\"14.00\" text-anchor=\"middle\" x=\"258.5\" y=\"-8.3\">(None, 3)</text>\n</g>\n<!-- 5457391056&#45;&gt;5457492496 -->\n<g class=\"edge\" id=\"edge7\">\n<title>5457391056-&gt;5457492496</title>\n<path d=\"M180,-83.37C180,-75.15 180,-65.66 180,-56.73\" fill=\"none\" stroke=\"black\"/>\n<polygon fill=\"black\" points=\"183.5,-56.61 180,-46.61 176.5,-56.61 183.5,-56.61\" stroke=\"black\"/>\n</g>\n</g>\n</svg>"
     },
     "execution_count": 2,
     "metadata": {},
     "output_type": "execute_result"
    }
   ],
   "source": [
    "from IPython.display import SVG\n",
    "from keras.utils.vis_utils import model_to_dot\n",
    "\n",
    "%matplotlib inline\n",
    "\n",
    "SVG(model_to_dot(model, show_shapes=True, dpi=64).create(prog='dot', format='svg'))"
   ],
   "metadata": {
    "collapsed": false,
    "pycharm": {
     "name": "#%% 출력\n"
    }
   }
  }
 ],
 "metadata": {
  "kernelspec": {
   "display_name": "Python 3",
   "language": "python",
   "name": "python3"
  },
  "language_info": {
   "codemirror_mode": {
    "name": "ipython",
    "version": 2
   },
   "file_extension": ".py",
   "mimetype": "text/x-python",
   "name": "python",
   "nbconvert_exporter": "python",
   "pygments_lexer": "ipython2",
   "version": "2.7.6"
  }
 },
 "nbformat": 4,
 "nbformat_minor": 0
}