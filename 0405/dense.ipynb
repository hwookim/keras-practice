{
 "cells": [
  {
   "cell_type": "code",
   "execution_count": 17,
   "outputs": [],
   "source": [
    "from keras.models import Sequential\n",
    "from keras.layers import Dense\n",
    "\n",
    "model = Sequential()\n",
    "\n",
    "model.add(Dense(8, input_dim=4, kernel_initializer= 'random_uniform', activation='relu'))\n",
    "model.add(Dense(6, kernel_initializer= 'random_uniform', activation='relu'))\n",
    "model.add(Dense(1, kernel_initializer= 'random_uniform', activation='sigmoid'))"
   ],
   "metadata": {
    "collapsed": false,
    "pycharm": {
     "name": "#%%\n"
    }
   }
  },
  {
   "cell_type": "code",
   "execution_count": 18,
   "outputs": [
    {
     "data": {
      "text/plain": "<IPython.core.display.SVG object>",
      "image/svg+xml": "<svg height=\"270pt\" viewBox=\"0.00 0.00 311.00 304.00\" width=\"276pt\" xmlns=\"http://www.w3.org/2000/svg\" xmlns:xlink=\"http://www.w3.org/1999/xlink\">\n<g class=\"graph\" id=\"graph0\" transform=\"scale(0.89 0.89) rotate(0) translate(4 300)\">\n<title>G</title>\n<polygon fill=\"white\" points=\"-4,4 -4,-300 307,-300 307,4 -4,4\" stroke=\"transparent\"/>\n<!-- 5630229456 -->\n<g class=\"node\" id=\"node1\">\n<title>5630229456</title>\n<polygon fill=\"none\" points=\"0,-249.5 0,-295.5 303,-295.5 303,-249.5 0,-249.5\" stroke=\"black\"/>\n<text font-family=\"Times,serif\" font-size=\"14.00\" text-anchor=\"middle\" x=\"85\" y=\"-268.8\">dense_24_input: InputLayer</text>\n<polyline fill=\"none\" points=\"170,-249.5 170,-295.5 \" stroke=\"black\"/>\n<text font-family=\"Times,serif\" font-size=\"14.00\" text-anchor=\"middle\" x=\"197.5\" y=\"-280.3\">input:</text>\n<polyline fill=\"none\" points=\"170,-272.5 225,-272.5 \" stroke=\"black\"/>\n<text font-family=\"Times,serif\" font-size=\"14.00\" text-anchor=\"middle\" x=\"197.5\" y=\"-257.3\">output:</text>\n<polyline fill=\"none\" points=\"225,-249.5 225,-295.5 \" stroke=\"black\"/>\n<text font-family=\"Times,serif\" font-size=\"14.00\" text-anchor=\"middle\" x=\"264\" y=\"-280.3\">[(None, 4)]</text>\n<polyline fill=\"none\" points=\"225,-272.5 303,-272.5 \" stroke=\"black\"/>\n<text font-family=\"Times,serif\" font-size=\"14.00\" text-anchor=\"middle\" x=\"264\" y=\"-257.3\">[(None, 4)]</text>\n</g>\n<!-- 5629258576 -->\n<g class=\"node\" id=\"node2\">\n<title>5629258576</title>\n<polygon fill=\"none\" points=\"35,-166.5 35,-212.5 268,-212.5 268,-166.5 35,-166.5\" stroke=\"black\"/>\n<text font-family=\"Times,serif\" font-size=\"14.00\" text-anchor=\"middle\" x=\"89.5\" y=\"-185.8\">dense_24: Dense</text>\n<polyline fill=\"none\" points=\"144,-166.5 144,-212.5 \" stroke=\"black\"/>\n<text font-family=\"Times,serif\" font-size=\"14.00\" text-anchor=\"middle\" x=\"171.5\" y=\"-197.3\">input:</text>\n<polyline fill=\"none\" points=\"144,-189.5 199,-189.5 \" stroke=\"black\"/>\n<text font-family=\"Times,serif\" font-size=\"14.00\" text-anchor=\"middle\" x=\"171.5\" y=\"-174.3\">output:</text>\n<polyline fill=\"none\" points=\"199,-166.5 199,-212.5 \" stroke=\"black\"/>\n<text font-family=\"Times,serif\" font-size=\"14.00\" text-anchor=\"middle\" x=\"233.5\" y=\"-197.3\">(None, 4)</text>\n<polyline fill=\"none\" points=\"199,-189.5 268,-189.5 \" stroke=\"black\"/>\n<text font-family=\"Times,serif\" font-size=\"14.00\" text-anchor=\"middle\" x=\"233.5\" y=\"-174.3\">(None, 8)</text>\n</g>\n<!-- 5630229456&#45;&gt;5629258576 -->\n<g class=\"edge\" id=\"edge1\">\n<title>5630229456-&gt;5629258576</title>\n<path d=\"M151.5,-249.37C151.5,-241.15 151.5,-231.66 151.5,-222.73\" fill=\"none\" stroke=\"black\"/>\n<polygon fill=\"black\" points=\"155,-222.61 151.5,-212.61 148,-222.61 155,-222.61\" stroke=\"black\"/>\n</g>\n<!-- 5630203408 -->\n<g class=\"node\" id=\"node3\">\n<title>5630203408</title>\n<polygon fill=\"none\" points=\"35,-83.5 35,-129.5 268,-129.5 268,-83.5 35,-83.5\" stroke=\"black\"/>\n<text font-family=\"Times,serif\" font-size=\"14.00\" text-anchor=\"middle\" x=\"89.5\" y=\"-102.8\">dense_25: Dense</text>\n<polyline fill=\"none\" points=\"144,-83.5 144,-129.5 \" stroke=\"black\"/>\n<text font-family=\"Times,serif\" font-size=\"14.00\" text-anchor=\"middle\" x=\"171.5\" y=\"-114.3\">input:</text>\n<polyline fill=\"none\" points=\"144,-106.5 199,-106.5 \" stroke=\"black\"/>\n<text font-family=\"Times,serif\" font-size=\"14.00\" text-anchor=\"middle\" x=\"171.5\" y=\"-91.3\">output:</text>\n<polyline fill=\"none\" points=\"199,-83.5 199,-129.5 \" stroke=\"black\"/>\n<text font-family=\"Times,serif\" font-size=\"14.00\" text-anchor=\"middle\" x=\"233.5\" y=\"-114.3\">(None, 8)</text>\n<polyline fill=\"none\" points=\"199,-106.5 268,-106.5 \" stroke=\"black\"/>\n<text font-family=\"Times,serif\" font-size=\"14.00\" text-anchor=\"middle\" x=\"233.5\" y=\"-91.3\">(None, 6)</text>\n</g>\n<!-- 5629258576&#45;&gt;5630203408 -->\n<g class=\"edge\" id=\"edge2\">\n<title>5629258576-&gt;5630203408</title>\n<path d=\"M151.5,-166.37C151.5,-158.15 151.5,-148.66 151.5,-139.73\" fill=\"none\" stroke=\"black\"/>\n<polygon fill=\"black\" points=\"155,-139.61 151.5,-129.61 148,-139.61 155,-139.61\" stroke=\"black\"/>\n</g>\n<!-- 5630227664 -->\n<g class=\"node\" id=\"node4\">\n<title>5630227664</title>\n<polygon fill=\"none\" points=\"35,-0.5 35,-46.5 268,-46.5 268,-0.5 35,-0.5\" stroke=\"black\"/>\n<text font-family=\"Times,serif\" font-size=\"14.00\" text-anchor=\"middle\" x=\"89.5\" y=\"-19.8\">dense_26: Dense</text>\n<polyline fill=\"none\" points=\"144,-0.5 144,-46.5 \" stroke=\"black\"/>\n<text font-family=\"Times,serif\" font-size=\"14.00\" text-anchor=\"middle\" x=\"171.5\" y=\"-31.3\">input:</text>\n<polyline fill=\"none\" points=\"144,-23.5 199,-23.5 \" stroke=\"black\"/>\n<text font-family=\"Times,serif\" font-size=\"14.00\" text-anchor=\"middle\" x=\"171.5\" y=\"-8.3\">output:</text>\n<polyline fill=\"none\" points=\"199,-0.5 199,-46.5 \" stroke=\"black\"/>\n<text font-family=\"Times,serif\" font-size=\"14.00\" text-anchor=\"middle\" x=\"233.5\" y=\"-31.3\">(None, 6)</text>\n<polyline fill=\"none\" points=\"199,-23.5 268,-23.5 \" stroke=\"black\"/>\n<text font-family=\"Times,serif\" font-size=\"14.00\" text-anchor=\"middle\" x=\"233.5\" y=\"-8.3\">(None, 1)</text>\n</g>\n<!-- 5630203408&#45;&gt;5630227664 -->\n<g class=\"edge\" id=\"edge3\">\n<title>5630203408-&gt;5630227664</title>\n<path d=\"M151.5,-83.37C151.5,-75.15 151.5,-65.66 151.5,-56.73\" fill=\"none\" stroke=\"black\"/>\n<polygon fill=\"black\" points=\"155,-56.61 151.5,-46.61 148,-56.61 155,-56.61\" stroke=\"black\"/>\n</g>\n</g>\n</svg>"
     },
     "execution_count": 18,
     "metadata": {},
     "output_type": "execute_result"
    }
   ],
   "source": [
    "from IPython.display import SVG\n",
    "from keras.utils.vis_utils import model_to_dot\n",
    "\n",
    "SVG(model_to_dot(model, show_shapes=True, dpi=64).create(prog='dot', format='svg'))"
   ],
   "metadata": {
    "collapsed": false,
    "pycharm": {
     "name": "#%%\n"
    }
   }
  }
 ],
 "metadata": {
  "kernelspec": {
   "display_name": "Python 3",
   "language": "python",
   "name": "python3"
  },
  "language_info": {
   "codemirror_mode": {
    "name": "ipython",
    "version": 2
   },
   "file_extension": ".py",
   "mimetype": "text/x-python",
   "name": "python",
   "nbconvert_exporter": "python",
   "pygments_lexer": "ipython2",
   "version": "2.7.6"
  }
 },
 "nbformat": 4,
 "nbformat_minor": 0
}