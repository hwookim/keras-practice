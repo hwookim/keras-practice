{
 "cells": [
  {
   "cell_type": "code",
   "execution_count": 1,
   "metadata": {},
   "outputs": [
    {
     "name": "stdout",
     "output_type": "stream",
     "text": [
      "Epoch 1/50\n",
      "16/16 [==============================] - 0s 2ms/step - loss: 2.6968\n",
      "Epoch 2/50\n",
      "16/16 [==============================] - 0s 2ms/step - loss: 2.5529\n",
      "Epoch 3/50\n",
      "16/16 [==============================] - 0s 2ms/step - loss: 2.5847\n",
      "Epoch 4/50\n",
      "16/16 [==============================] - 0s 2ms/step - loss: 2.4361\n",
      "Epoch 5/50\n",
      "16/16 [==============================] - 0s 2ms/step - loss: 2.4544\n",
      "Epoch 6/50\n",
      "16/16 [==============================] - 0s 2ms/step - loss: 2.3731\n",
      "Epoch 7/50\n",
      "16/16 [==============================] - 0s 2ms/step - loss: 2.2585\n",
      "Epoch 8/50\n",
      "16/16 [==============================] - 0s 2ms/step - loss: 2.1596\n",
      "Epoch 9/50\n",
      "16/16 [==============================] - 0s 2ms/step - loss: 2.2025\n",
      "Epoch 10/50\n",
      "16/16 [==============================] - 0s 2ms/step - loss: 2.1342\n",
      "Epoch 11/50\n",
      "16/16 [==============================] - 0s 2ms/step - loss: 1.9344\n",
      "Epoch 12/50\n",
      "16/16 [==============================] - 0s 1ms/step - loss: 1.9948\n",
      "Epoch 13/50\n",
      "16/16 [==============================] - 0s 2ms/step - loss: 1.9005\n",
      "Epoch 14/50\n",
      "16/16 [==============================] - 0s 2ms/step - loss: 1.8077\n",
      "Epoch 15/50\n",
      "16/16 [==============================] - 0s 2ms/step - loss: 1.8008\n",
      "Epoch 16/50\n",
      "16/16 [==============================] - 0s 2ms/step - loss: 1.6923\n",
      "Epoch 17/50\n",
      "16/16 [==============================] - 0s 2ms/step - loss: 1.6031\n",
      "Epoch 18/50\n",
      "16/16 [==============================] - 0s 2ms/step - loss: 1.5617\n",
      "Epoch 19/50\n",
      "16/16 [==============================] - 0s 2ms/step - loss: 1.5258\n",
      "Epoch 20/50\n",
      "16/16 [==============================] - 0s 2ms/step - loss: 1.4230\n",
      "Epoch 21/50\n",
      "16/16 [==============================] - 0s 2ms/step - loss: 1.4727\n",
      "Epoch 22/50\n",
      "16/16 [==============================] - 0s 2ms/step - loss: 1.4054\n",
      "Epoch 23/50\n",
      "16/16 [==============================] - 0s 2ms/step - loss: 1.3349\n",
      "Epoch 24/50\n",
      "16/16 [==============================] - 0s 2ms/step - loss: 1.2806\n",
      "Epoch 25/50\n",
      "16/16 [==============================] - 0s 3ms/step - loss: 1.2792\n",
      "Epoch 26/50\n",
      "16/16 [==============================] - 0s 2ms/step - loss: 1.1573\n",
      "Epoch 27/50\n",
      "16/16 [==============================] - 0s 2ms/step - loss: 1.0913\n",
      "Epoch 28/50\n",
      "16/16 [==============================] - 0s 2ms/step - loss: 1.0861\n",
      "Epoch 29/50\n",
      "16/16 [==============================] - 0s 2ms/step - loss: 1.0247\n",
      "Epoch 30/50\n",
      "16/16 [==============================] - 0s 2ms/step - loss: 1.0019\n",
      "Epoch 31/50\n",
      "16/16 [==============================] - 0s 2ms/step - loss: 0.9777\n",
      "Epoch 32/50\n",
      "16/16 [==============================] - 0s 2ms/step - loss: 0.9079\n",
      "Epoch 33/50\n",
      "16/16 [==============================] - 0s 2ms/step - loss: 0.8738\n",
      "Epoch 34/50\n",
      "16/16 [==============================] - 0s 2ms/step - loss: 0.8335\n",
      "Epoch 35/50\n",
      "16/16 [==============================] - 0s 2ms/step - loss: 0.7997\n",
      "Epoch 36/50\n",
      "16/16 [==============================] - 0s 2ms/step - loss: 0.7703\n",
      "Epoch 37/50\n",
      "16/16 [==============================] - 0s 2ms/step - loss: 0.6917\n",
      "Epoch 38/50\n",
      "16/16 [==============================] - 0s 2ms/step - loss: 0.6814\n",
      "Epoch 39/50\n",
      "16/16 [==============================] - 0s 2ms/step - loss: 0.6231\n",
      "Epoch 40/50\n",
      "16/16 [==============================] - 0s 2ms/step - loss: 0.6330\n",
      "Epoch 41/50\n",
      "16/16 [==============================] - 0s 2ms/step - loss: 0.5832\n",
      "Epoch 42/50\n",
      "16/16 [==============================] - 0s 2ms/step - loss: 0.6039\n",
      "Epoch 43/50\n",
      "16/16 [==============================] - 0s 2ms/step - loss: 0.5469\n",
      "Epoch 44/50\n",
      "16/16 [==============================] - 0s 2ms/step - loss: 0.5313\n",
      "Epoch 45/50\n",
      "16/16 [==============================] - 0s 2ms/step - loss: 0.4980\n",
      "Epoch 46/50\n",
      "16/16 [==============================] - 0s 2ms/step - loss: 0.4773\n",
      "Epoch 47/50\n",
      "16/16 [==============================] - 0s 2ms/step - loss: 0.4481\n",
      "Epoch 48/50\n",
      "16/16 [==============================] - 0s 2ms/step - loss: 0.3994\n",
      "Epoch 49/50\n",
      "16/16 [==============================] - 0s 2ms/step - loss: 0.4106\n",
      "Epoch 50/50\n",
      "16/16 [==============================] - 0s 2ms/step - loss: 0.3689\n"
     ]
    },
    {
     "data": {
      "image/png": "[encoded data removed]",
      "text/plain": [
       "<Figure size 432x288 with 1 Axes>"
      ]
     },
     "metadata": {
      "needs_background": "light"
     },
     "output_type": "display_data"
    },
    {
     "name": "stdout",
     "output_type": "stream",
     "text": [
      "4/4 [==============================] - 0s 2ms/step - loss: 0.3955\n",
      "loss : 0.3954768776893616\n"
     ]
    }
   ],
   "source": [
    "import Predictor\n",
    "\n",
    "from keras.models import Sequential\n",
    "from keras.layers import Dense\n",
    "\n",
    "model = Sequential()\n",
    "model.add(Dense(1, input_dim=1))\n",
    "\n",
    "Predictor.run(model)"
   ]
  },
  {
   "cell_type": "code",
   "execution_count": null,
   "metadata": {},
   "outputs": [],
   "source": []
  }
 ],
 "metadata": {
  "kernelspec": {
   "display_name": "Python 3",
   "language": "python",
   "name": "python3"
  },
  "language_info": {
   "codemirror_mode": {
    "name": "ipython",
    "version": 3
   },
   "file_extension": ".py",
   "mimetype": "text/x-python",
   "name": "python",
   "nbconvert_exporter": "python",
   "pygments_lexer": "ipython3",
   "version": "3.7.10"
  }
 },
 "nbformat": 4,
 "nbformat_minor": 1
}