{
 "cells": [
  {
   "cell_type": "code",
   "execution_count": 2,
   "metadata": {},
   "outputs": [
    {
     "name": "stdout",
     "output_type": "stream",
     "text": [
      "Epoch 1/50\n",
      "16/16 [==============================] - 0s 2ms/step - loss: 2.9616\n",
      "Epoch 2/50\n",
      "16/16 [==============================] - 0s 2ms/step - loss: 2.8443\n",
      "Epoch 3/50\n",
      "16/16 [==============================] - 0s 2ms/step - loss: 2.6351\n",
      "Epoch 4/50\n",
      "16/16 [==============================] - 0s 2ms/step - loss: 2.6959\n",
      "Epoch 5/50\n",
      "16/16 [==============================] - 0s 2ms/step - loss: 2.5918\n",
      "Epoch 6/50\n",
      "16/16 [==============================] - 0s 2ms/step - loss: 2.5662\n",
      "Epoch 7/50\n",
      "16/16 [==============================] - 0s 2ms/step - loss: 2.4176\n",
      "Epoch 8/50\n",
      "16/16 [==============================] - 0s 2ms/step - loss: 2.4358\n",
      "Epoch 9/50\n",
      "16/16 [==============================] - 0s 2ms/step - loss: 2.4255\n",
      "Epoch 10/50\n",
      "16/16 [==============================] - 0s 2ms/step - loss: 2.2305\n",
      "Epoch 11/50\n",
      "16/16 [==============================] - 0s 2ms/step - loss: 2.1537\n",
      "Epoch 12/50\n",
      "16/16 [==============================] - 0s 2ms/step - loss: 2.1543\n",
      "Epoch 13/50\n",
      "16/16 [==============================] - 0s 2ms/step - loss: 2.1244\n",
      "Epoch 14/50\n",
      "16/16 [==============================] - 0s 2ms/step - loss: 2.0228\n",
      "Epoch 15/50\n",
      "16/16 [==============================] - 0s 2ms/step - loss: 1.8684\n",
      "Epoch 16/50\n",
      "16/16 [==============================] - 0s 2ms/step - loss: 1.8884\n",
      "Epoch 17/50\n",
      "16/16 [==============================] - 0s 2ms/step - loss: 1.7274\n",
      "Epoch 18/50\n",
      "16/16 [==============================] - 0s 2ms/step - loss: 1.7260\n",
      "Epoch 19/50\n",
      "16/16 [==============================] - 0s 2ms/step - loss: 1.6812\n",
      "Epoch 20/50\n",
      "16/16 [==============================] - 0s 2ms/step - loss: 1.5883\n",
      "Epoch 21/50\n",
      "16/16 [==============================] - 0s 2ms/step - loss: 1.4920\n",
      "Epoch 22/50\n",
      "16/16 [==============================] - 0s 2ms/step - loss: 1.5567\n",
      "Epoch 23/50\n",
      "16/16 [==============================] - 0s 2ms/step - loss: 1.4963\n",
      "Epoch 24/50\n",
      "16/16 [==============================] - 0s 2ms/step - loss: 1.4455\n",
      "Epoch 25/50\n",
      "16/16 [==============================] - 0s 2ms/step - loss: 1.3664\n",
      "Epoch 26/50\n",
      "16/16 [==============================] - 0s 2ms/step - loss: 1.3338\n",
      "Epoch 27/50\n",
      "16/16 [==============================] - 0s 2ms/step - loss: 1.2593\n",
      "Epoch 28/50\n",
      "16/16 [==============================] - 0s 2ms/step - loss: 1.2619\n",
      "Epoch 29/50\n",
      "16/16 [==============================] - 0s 2ms/step - loss: 1.1607\n",
      "Epoch 30/50\n",
      "16/16 [==============================] - 0s 2ms/step - loss: 1.1456\n",
      "Epoch 31/50\n",
      "16/16 [==============================] - 0s 2ms/step - loss: 1.0718\n",
      "Epoch 32/50\n",
      "16/16 [==============================] - 0s 2ms/step - loss: 1.0594\n",
      "Epoch 33/50\n",
      "16/16 [==============================] - 0s 2ms/step - loss: 0.9547\n",
      "Epoch 34/50\n",
      "16/16 [==============================] - 0s 2ms/step - loss: 0.9305\n",
      "Epoch 35/50\n",
      "16/16 [==============================] - 0s 2ms/step - loss: 0.8967\n",
      "Epoch 36/50\n",
      "16/16 [==============================] - 0s 2ms/step - loss: 0.8548\n",
      "Epoch 37/50\n",
      "16/16 [==============================] - 0s 2ms/step - loss: 0.8375\n",
      "Epoch 38/50\n",
      "16/16 [==============================] - 0s 2ms/step - loss: 0.8130\n",
      "Epoch 39/50\n",
      "16/16 [==============================] - 0s 2ms/step - loss: 0.7296\n",
      "Epoch 40/50\n",
      "16/16 [==============================] - 0s 2ms/step - loss: 0.7634\n",
      "Epoch 41/50\n",
      "16/16 [==============================] - 0s 2ms/step - loss: 0.6904\n",
      "Epoch 42/50\n",
      "16/16 [==============================] - 0s 2ms/step - loss: 0.6862\n",
      "Epoch 43/50\n",
      "16/16 [==============================] - 0s 2ms/step - loss: 0.6405\n",
      "Epoch 44/50\n",
      "16/16 [==============================] - 0s 2ms/step - loss: 0.6227\n",
      "Epoch 45/50\n",
      "16/16 [==============================] - 0s 2ms/step - loss: 0.5898\n",
      "Epoch 46/50\n",
      "16/16 [==============================] - 0s 2ms/step - loss: 0.5847\n",
      "Epoch 47/50\n",
      "16/16 [==============================] - 0s 2ms/step - loss: 0.5580\n",
      "Epoch 48/50\n",
      "16/16 [==============================] - 0s 2ms/step - loss: 0.4758\n",
      "Epoch 49/50\n",
      "16/16 [==============================] - 0s 2ms/step - loss: 0.4827\n",
      "Epoch 50/50\n",
      "16/16 [==============================] - 0s 2ms/step - loss: 0.4747\n"
     ]
    },
    {
     "data": {
      "image/png": "[encoded data removed]",
      "text/plain": [
       "<Figure size 432x288 with 1 Axes>"
      ]
     },
     "metadata": {
      "needs_background": "light"
     },
     "output_type": "display_data"
    },
    {
     "name": "stdout",
     "output_type": "stream",
     "text": [
      "4/4 [==============================] - 0s 2ms/step - loss: 0.4443\n",
      "loss : 0.44429630041122437\n"
     ]
    }
   ],
   "source": [
    "from keras.models import Sequential\n",
    "from keras.layers import Dense\n",
    "from functions import run\n",
    "\n",
    "model = Sequential()\n",
    "model.add(Dense(1, input_dim=1))\n",
    "\n",
    "run(model)"
   ]
  }
 ],
 "metadata": {
  "kernelspec": {
   "display_name": "Python 3",
   "language": "python",
   "name": "python3"
  },
  "language_info": {
   "codemirror_mode": {
    "name": "ipython",
    "version": 3
   },
   "file_extension": ".py",
   "mimetype": "text/x-python",
   "name": "python",
   "nbconvert_exporter": "python",
   "pygments_lexer": "ipython3",
   "version": "3.7.10"
  }
 },
 "nbformat": 4,
 "nbformat_minor": 1
}
