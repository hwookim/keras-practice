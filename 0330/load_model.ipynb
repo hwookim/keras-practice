{
 "cells": [
  {
   "cell_type": "code",
   "execution_count": 12,
   "metadata": {
    "pycharm": {
     "name": "#%%\n"
    }
   },
   "outputs": [
    {
     "data": {
      "text/plain": "<IPython.core.display.SVG object>",
      "image/svg+xml": "<svg height=\"196pt\" viewBox=\"0.00 0.00 318.00 221.00\" width=\"283pt\" xmlns=\"http://www.w3.org/2000/svg\" xmlns:xlink=\"http://www.w3.org/1999/xlink\">\n<g class=\"graph\" id=\"graph0\" transform=\"scale(0.89 0.89) rotate(0) translate(4 217)\">\n<title>G</title>\n<polygon fill=\"white\" points=\"-4,4 -4,-217 314,-217 314,4 -4,4\" stroke=\"transparent\"/>\n<!-- 5475171984 -->\n<g class=\"node\" id=\"node1\">\n<title>5475171984</title>\n<polygon fill=\"none\" points=\"0,-166.5 0,-212.5 310,-212.5 310,-166.5 0,-166.5\" stroke=\"black\"/>\n<text font-family=\"Times,serif\" font-size=\"14.00\" text-anchor=\"middle\" x=\"81.5\" y=\"-185.8\">dense_2_input: InputLayer</text>\n<polyline fill=\"none\" points=\"163,-166.5 163,-212.5 \" stroke=\"black\"/>\n<text font-family=\"Times,serif\" font-size=\"14.00\" text-anchor=\"middle\" x=\"190.5\" y=\"-197.3\">input:</text>\n<polyline fill=\"none\" points=\"163,-189.5 218,-189.5 \" stroke=\"black\"/>\n<text font-family=\"Times,serif\" font-size=\"14.00\" text-anchor=\"middle\" x=\"190.5\" y=\"-174.3\">output:</text>\n<polyline fill=\"none\" points=\"218,-166.5 218,-212.5 \" stroke=\"black\"/>\n<text font-family=\"Times,serif\" font-size=\"14.00\" text-anchor=\"middle\" x=\"264\" y=\"-197.3\">[(None, 784)]</text>\n<polyline fill=\"none\" points=\"218,-189.5 310,-189.5 \" stroke=\"black\"/>\n<text font-family=\"Times,serif\" font-size=\"14.00\" text-anchor=\"middle\" x=\"264\" y=\"-174.3\">[(None, 784)]</text>\n</g>\n<!-- 5460836816 -->\n<g class=\"node\" id=\"node2\">\n<title>5460836816</title>\n<polygon fill=\"none\" points=\"35,-83.5 35,-129.5 275,-129.5 275,-83.5 35,-83.5\" stroke=\"black\"/>\n<text font-family=\"Times,serif\" font-size=\"14.00\" text-anchor=\"middle\" x=\"86\" y=\"-102.8\">dense_2: Dense</text>\n<polyline fill=\"none\" points=\"137,-83.5 137,-129.5 \" stroke=\"black\"/>\n<text font-family=\"Times,serif\" font-size=\"14.00\" text-anchor=\"middle\" x=\"164.5\" y=\"-114.3\">input:</text>\n<polyline fill=\"none\" points=\"137,-106.5 192,-106.5 \" stroke=\"black\"/>\n<text font-family=\"Times,serif\" font-size=\"14.00\" text-anchor=\"middle\" x=\"164.5\" y=\"-91.3\">output:</text>\n<polyline fill=\"none\" points=\"192,-83.5 192,-129.5 \" stroke=\"black\"/>\n<text font-family=\"Times,serif\" font-size=\"14.00\" text-anchor=\"middle\" x=\"233.5\" y=\"-114.3\">(None, 784)</text>\n<polyline fill=\"none\" points=\"192,-106.5 275,-106.5 \" stroke=\"black\"/>\n<text font-family=\"Times,serif\" font-size=\"14.00\" text-anchor=\"middle\" x=\"233.5\" y=\"-91.3\">(None, 64)</text>\n</g>\n<!-- 5475171984&#45;&gt;5460836816 -->\n<g class=\"edge\" id=\"edge1\">\n<title>5475171984-&gt;5460836816</title>\n<path d=\"M155,-166.37C155,-158.15 155,-148.66 155,-139.73\" fill=\"none\" stroke=\"black\"/>\n<polygon fill=\"black\" points=\"158.5,-139.61 155,-129.61 151.5,-139.61 158.5,-139.61\" stroke=\"black\"/>\n</g>\n<!-- 5460702864 -->\n<g class=\"node\" id=\"node3\">\n<title>5460702864</title>\n<polygon fill=\"none\" points=\"38.5,-0.5 38.5,-46.5 271.5,-46.5 271.5,-0.5 38.5,-0.5\" stroke=\"black\"/>\n<text font-family=\"Times,serif\" font-size=\"14.00\" text-anchor=\"middle\" x=\"89.5\" y=\"-19.8\">dense_3: Dense</text>\n<polyline fill=\"none\" points=\"140.5,-0.5 140.5,-46.5 \" stroke=\"black\"/>\n<text font-family=\"Times,serif\" font-size=\"14.00\" text-anchor=\"middle\" x=\"168\" y=\"-31.3\">input:</text>\n<polyline fill=\"none\" points=\"140.5,-23.5 195.5,-23.5 \" stroke=\"black\"/>\n<text font-family=\"Times,serif\" font-size=\"14.00\" text-anchor=\"middle\" x=\"168\" y=\"-8.3\">output:</text>\n<polyline fill=\"none\" points=\"195.5,-0.5 195.5,-46.5 \" stroke=\"black\"/>\n<text font-family=\"Times,serif\" font-size=\"14.00\" text-anchor=\"middle\" x=\"233.5\" y=\"-31.3\">(None, 64)</text>\n<polyline fill=\"none\" points=\"195.5,-23.5 271.5,-23.5 \" stroke=\"black\"/>\n<text font-family=\"Times,serif\" font-size=\"14.00\" text-anchor=\"middle\" x=\"233.5\" y=\"-8.3\">(None, 10)</text>\n</g>\n<!-- 5460836816&#45;&gt;5460702864 -->\n<g class=\"edge\" id=\"edge2\">\n<title>5460836816-&gt;5460702864</title>\n<path d=\"M155,-83.37C155,-75.15 155,-65.66 155,-56.73\" fill=\"none\" stroke=\"black\"/>\n<polygon fill=\"black\" points=\"158.5,-56.61 155,-46.61 151.5,-56.61 158.5,-56.61\" stroke=\"black\"/>\n</g>\n</g>\n</svg>"
     },
     "execution_count": 12,
     "metadata": {},
     "output_type": "execute_result"
    }
   ],
   "source": [
    "from keras.models import load_model\n",
    "model = load_model('mnist_mlp_model.h5')\n",
    "\n",
    "from IPython.display import SVG\n",
    "from keras.utils.vis_utils import model_to_dot\n",
    "\n",
    "%matplotlib inline\n",
    "\n",
    "SVG(model_to_dot(model, show_shapes=True, dpi=64).create(prog='dot', format='svg'))"
   ]
  },
  {
   "cell_type": "code",
   "execution_count": 17,
   "metadata": {
    "collapsed": true
   },
   "outputs": [
    {
     "name": "stdout",
     "output_type": "stream",
     "text": [
      "True : 2, Predict : 2\n",
      "True : 0, Predict : 0\n",
      "True : 9, Predict : 9\n",
      "True : 6, Predict : 6\n",
      "True : 2, Predict : 2\n"
     ]
    }
   ],
   "source": [
    "from keras.utils import np_utils\n",
    "from keras.datasets import mnist\n",
    "import numpy as np\n",
    "from numpy import argmax\n",
    "\n",
    "# 1. 실무에 사용할 데이터 준비하기\n",
    "(x_train, y_train), (x_test, y_test) = mnist.load_data()\n",
    "x_test = x_test.reshape(10000, 784).astype('float32') / 255.0\n",
    "y_test = np_utils.to_categorical(y_test)\n",
    "xhat_idx = np.random.choice(x_test.shape[0], 5)\n",
    "xhat = x_test[xhat_idx]\n",
    "\n",
    "# 2. 모델 불러오기\n",
    "from keras.models import load_model\n",
    "model = load_model('mnist_mlp_model.h5')\n",
    "\n",
    "# 3. 모델 사용하기\n",
    "yhat = np.argmax(model.predict(xhat), axis=-1) # model.predict_classes() deprecated\n",
    "\n",
    "for i in range(5):\n",
    "    print('True : ' + str(argmax(y_test[xhat_idx[i]])) + ', Predict : ' + str(yhat[i]))\n"
   ]
  }
 ],
 "metadata": {
  "kernelspec": {
   "display_name": "Python 3",
   "language": "python",
   "name": "python3"
  },
  "language_info": {
   "codemirror_mode": {
    "name": "ipython",
    "version": 3
   },
   "file_extension": ".py",
   "mimetype": "text/x-python",
   "name": "python",
   "nbconvert_exporter": "python",
   "pygments_lexer": "ipython3",
   "version": "3.7.10"
  }
 },
 "nbformat": 4,
 "nbformat_minor": 1
}