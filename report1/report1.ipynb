{
 "cells": [
  {
   "cell_type": "code",
   "execution_count": 5,
   "metadata": {
    "collapsed": true,
    "pycharm": {
     "name": "#%% 데이터 생성\n"
    }
   },
   "outputs": [
    {
     "name": "stdout",
     "output_type": "stream",
     "text": [
      "Found 90 images belonging to 6 classes.\n",
      "Found 30 images belonging to 6 classes.\n"
     ]
    }
   ],
   "source": [
    "import numpy as np\n",
    "from keras.preprocessing.image import ImageDataGenerator\n",
    "\n",
    "np.random.seed(3)\n",
    "\n",
    "train_data_generator = ImageDataGenerator(rescale=1./255)\n",
    "train_generator = train_data_generator.flow_from_directory(\n",
    "    directory='./handwriting_shape_plus/train',\n",
    "    target_size=(24,24),\n",
    "    batch_size=3,\n",
    "    class_mode='categorical'\n",
    ")\n",
    "\n",
    "test_data_generator = ImageDataGenerator(rescale=1./255)\n",
    "test_generator = test_data_generator.flow_from_directory(\n",
    "    directory='./handwriting_shape_plus/test',\n",
    "    target_size=(24,24),\n",
    "    batch_size=3,\n",
    "    class_mode='categorical'\n",
    ")"
   ]
  },
  {
   "cell_type": "code",
   "execution_count": 6,
   "outputs": [],
   "source": [
    "from keras.models import Sequential\n",
    "from keras.layers import Dense\n",
    "from keras.layers import Flatten\n",
    "from keras.layers.convolutional import Conv2D\n",
    "from keras.layers.convolutional import MaxPooling2D\n",
    "\n",
    "model = Sequential()\n",
    "model.add(\n",
    "    Conv2D(32,kernel_size=(3, 3),\n",
    "           activation='relu',input_shape=(24,24,3))\n",
    ")\n",
    "model.add(Conv2D(64, (3, 3), activation='relu'))\n",
    "model.add(MaxPooling2D(pool_size=(2, 2)))\n",
    "model.add(Flatten())\n",
    "model.add(Dense(128, activation='relu'))\n",
    "model.add(Dense(3, activation='softmax'))"
   ],
   "metadata": {
    "collapsed": false,
    "pycharm": {
     "name": "#%% 모델 구성\n"
    }
   }
  },
  {
   "cell_type": "code",
   "execution_count": 8,
   "outputs": [
    {
     "data": {
      "text/plain": "<IPython.core.display.SVG object>",
      "image/svg+xml": "<svg height=\"492pt\" viewBox=\"0.00 0.00 375.00 553.00\" width=\"333pt\" xmlns=\"http://www.w3.org/2000/svg\" xmlns:xlink=\"http://www.w3.org/1999/xlink\">\n<g class=\"graph\" id=\"graph0\" transform=\"scale(0.89 0.89) rotate(0) translate(4 549)\">\n<title>G</title>\n<polygon fill=\"white\" points=\"-4,4 -4,-549 371,-549 371,4 -4,4\" stroke=\"transparent\"/>\n<!-- 5527266320 -->\n<g class=\"node\" id=\"node1\">\n<title>5527266320</title>\n<polygon fill=\"none\" points=\"17,-498.5 17,-544.5 350,-544.5 350,-498.5 17,-498.5\" stroke=\"black\"/>\n<text font-family=\"Times,serif\" font-size=\"14.00\" text-anchor=\"middle\" x=\"96\" y=\"-517.8\">conv2d_input: InputLayer</text>\n<polyline fill=\"none\" points=\"175,-498.5 175,-544.5 \" stroke=\"black\"/>\n<text font-family=\"Times,serif\" font-size=\"14.00\" text-anchor=\"middle\" x=\"202.5\" y=\"-529.3\">input:</text>\n<polyline fill=\"none\" points=\"175,-521.5 230,-521.5 \" stroke=\"black\"/>\n<text font-family=\"Times,serif\" font-size=\"14.00\" text-anchor=\"middle\" x=\"202.5\" y=\"-506.3\">output:</text>\n<polyline fill=\"none\" points=\"230,-498.5 230,-544.5 \" stroke=\"black\"/>\n<text font-family=\"Times,serif\" font-size=\"14.00\" text-anchor=\"middle\" x=\"290\" y=\"-529.3\">[(None, 24, 24, 3)]</text>\n<polyline fill=\"none\" points=\"230,-521.5 350,-521.5 \" stroke=\"black\"/>\n<text font-family=\"Times,serif\" font-size=\"14.00\" text-anchor=\"middle\" x=\"290\" y=\"-506.3\">[(None, 24, 24, 3)]</text>\n</g>\n<!-- 5530270480 -->\n<g class=\"node\" id=\"node2\">\n<title>5530270480</title>\n<polygon fill=\"none\" points=\"42,-415.5 42,-461.5 325,-461.5 325,-415.5 42,-415.5\" stroke=\"black\"/>\n<text font-family=\"Times,serif\" font-size=\"14.00\" text-anchor=\"middle\" x=\"97\" y=\"-434.8\">conv2d: Conv2D</text>\n<polyline fill=\"none\" points=\"152,-415.5 152,-461.5 \" stroke=\"black\"/>\n<text font-family=\"Times,serif\" font-size=\"14.00\" text-anchor=\"middle\" x=\"179.5\" y=\"-446.3\">input:</text>\n<polyline fill=\"none\" points=\"152,-438.5 207,-438.5 \" stroke=\"black\"/>\n<text font-family=\"Times,serif\" font-size=\"14.00\" text-anchor=\"middle\" x=\"179.5\" y=\"-423.3\">output:</text>\n<polyline fill=\"none\" points=\"207,-415.5 207,-461.5 \" stroke=\"black\"/>\n<text font-family=\"Times,serif\" font-size=\"14.00\" text-anchor=\"middle\" x=\"266\" y=\"-446.3\">(None, 24, 24, 3)</text>\n<polyline fill=\"none\" points=\"207,-438.5 325,-438.5 \" stroke=\"black\"/>\n<text font-family=\"Times,serif\" font-size=\"14.00\" text-anchor=\"middle\" x=\"266\" y=\"-423.3\">(None, 22, 22, 32)</text>\n</g>\n<!-- 5527266320&#45;&gt;5530270480 -->\n<g class=\"edge\" id=\"edge1\">\n<title>5527266320-&gt;5530270480</title>\n<path d=\"M183.5,-498.37C183.5,-490.15 183.5,-480.66 183.5,-471.73\" fill=\"none\" stroke=\"black\"/>\n<polygon fill=\"black\" points=\"187,-471.61 183.5,-461.61 180,-471.61 187,-471.61\" stroke=\"black\"/>\n</g>\n<!-- 5527415184 -->\n<g class=\"node\" id=\"node3\">\n<title>5527415184</title>\n<polygon fill=\"none\" points=\"35.5,-332.5 35.5,-378.5 331.5,-378.5 331.5,-332.5 35.5,-332.5\" stroke=\"black\"/>\n<text font-family=\"Times,serif\" font-size=\"14.00\" text-anchor=\"middle\" x=\"97\" y=\"-351.8\">conv2d_1: Conv2D</text>\n<polyline fill=\"none\" points=\"158.5,-332.5 158.5,-378.5 \" stroke=\"black\"/>\n<text font-family=\"Times,serif\" font-size=\"14.00\" text-anchor=\"middle\" x=\"186\" y=\"-363.3\">input:</text>\n<polyline fill=\"none\" points=\"158.5,-355.5 213.5,-355.5 \" stroke=\"black\"/>\n<text font-family=\"Times,serif\" font-size=\"14.00\" text-anchor=\"middle\" x=\"186\" y=\"-340.3\">output:</text>\n<polyline fill=\"none\" points=\"213.5,-332.5 213.5,-378.5 \" stroke=\"black\"/>\n<text font-family=\"Times,serif\" font-size=\"14.00\" text-anchor=\"middle\" x=\"272.5\" y=\"-363.3\">(None, 22, 22, 32)</text>\n<polyline fill=\"none\" points=\"213.5,-355.5 331.5,-355.5 \" stroke=\"black\"/>\n<text font-family=\"Times,serif\" font-size=\"14.00\" text-anchor=\"middle\" x=\"272.5\" y=\"-340.3\">(None, 20, 20, 64)</text>\n</g>\n<!-- 5530270480&#45;&gt;5527415184 -->\n<g class=\"edge\" id=\"edge2\">\n<title>5530270480-&gt;5527415184</title>\n<path d=\"M183.5,-415.37C183.5,-407.15 183.5,-397.66 183.5,-388.73\" fill=\"none\" stroke=\"black\"/>\n<polygon fill=\"black\" points=\"187,-388.61 183.5,-378.61 180,-388.61 187,-388.61\" stroke=\"black\"/>\n</g>\n<!-- 5528265808 -->\n<g class=\"node\" id=\"node4\">\n<title>5528265808</title>\n<polygon fill=\"none\" points=\"0,-249.5 0,-295.5 367,-295.5 367,-249.5 0,-249.5\" stroke=\"black\"/>\n<text font-family=\"Times,serif\" font-size=\"14.00\" text-anchor=\"middle\" x=\"97\" y=\"-268.8\">max_pooling2d: MaxPooling2D</text>\n<polyline fill=\"none\" points=\"194,-249.5 194,-295.5 \" stroke=\"black\"/>\n<text font-family=\"Times,serif\" font-size=\"14.00\" text-anchor=\"middle\" x=\"221.5\" y=\"-280.3\">input:</text>\n<polyline fill=\"none\" points=\"194,-272.5 249,-272.5 \" stroke=\"black\"/>\n<text font-family=\"Times,serif\" font-size=\"14.00\" text-anchor=\"middle\" x=\"221.5\" y=\"-257.3\">output:</text>\n<polyline fill=\"none\" points=\"249,-249.5 249,-295.5 \" stroke=\"black\"/>\n<text font-family=\"Times,serif\" font-size=\"14.00\" text-anchor=\"middle\" x=\"308\" y=\"-280.3\">(None, 20, 20, 64)</text>\n<polyline fill=\"none\" points=\"249,-272.5 367,-272.5 \" stroke=\"black\"/>\n<text font-family=\"Times,serif\" font-size=\"14.00\" text-anchor=\"middle\" x=\"308\" y=\"-257.3\">(None, 10, 10, 64)</text>\n</g>\n<!-- 5527415184&#45;&gt;5528265808 -->\n<g class=\"edge\" id=\"edge3\">\n<title>5527415184-&gt;5528265808</title>\n<path d=\"M183.5,-332.37C183.5,-324.15 183.5,-314.66 183.5,-305.73\" fill=\"none\" stroke=\"black\"/>\n<polygon fill=\"black\" points=\"187,-305.61 183.5,-295.61 180,-305.61 187,-305.61\" stroke=\"black\"/>\n</g>\n<!-- 5531934416 -->\n<g class=\"node\" id=\"node5\">\n<title>5531934416</title>\n<polygon fill=\"none\" points=\"49.5,-166.5 49.5,-212.5 317.5,-212.5 317.5,-166.5 49.5,-166.5\" stroke=\"black\"/>\n<text font-family=\"Times,serif\" font-size=\"14.00\" text-anchor=\"middle\" x=\"97\" y=\"-185.8\">flatten: Flatten</text>\n<polyline fill=\"none\" points=\"144.5,-166.5 144.5,-212.5 \" stroke=\"black\"/>\n<text font-family=\"Times,serif\" font-size=\"14.00\" text-anchor=\"middle\" x=\"172\" y=\"-197.3\">input:</text>\n<polyline fill=\"none\" points=\"144.5,-189.5 199.5,-189.5 \" stroke=\"black\"/>\n<text font-family=\"Times,serif\" font-size=\"14.00\" text-anchor=\"middle\" x=\"172\" y=\"-174.3\">output:</text>\n<polyline fill=\"none\" points=\"199.5,-166.5 199.5,-212.5 \" stroke=\"black\"/>\n<text font-family=\"Times,serif\" font-size=\"14.00\" text-anchor=\"middle\" x=\"258.5\" y=\"-197.3\">(None, 10, 10, 64)</text>\n<polyline fill=\"none\" points=\"199.5,-189.5 317.5,-189.5 \" stroke=\"black\"/>\n<text font-family=\"Times,serif\" font-size=\"14.00\" text-anchor=\"middle\" x=\"258.5\" y=\"-174.3\">(None, 6400)</text>\n</g>\n<!-- 5528265808&#45;&gt;5531934416 -->\n<g class=\"edge\" id=\"edge4\">\n<title>5528265808-&gt;5531934416</title>\n<path d=\"M183.5,-249.37C183.5,-241.15 183.5,-231.66 183.5,-222.73\" fill=\"none\" stroke=\"black\"/>\n<polygon fill=\"black\" points=\"187,-222.61 183.5,-212.61 180,-222.61 187,-222.61\" stroke=\"black\"/>\n</g>\n<!-- 5528359760 -->\n<g class=\"node\" id=\"node6\">\n<title>5528359760</title>\n<polygon fill=\"none\" points=\"67,-83.5 67,-129.5 300,-129.5 300,-83.5 67,-83.5\" stroke=\"black\"/>\n<text font-family=\"Times,serif\" font-size=\"14.00\" text-anchor=\"middle\" x=\"111.5\" y=\"-102.8\">dense: Dense</text>\n<polyline fill=\"none\" points=\"156,-83.5 156,-129.5 \" stroke=\"black\"/>\n<text font-family=\"Times,serif\" font-size=\"14.00\" text-anchor=\"middle\" x=\"183.5\" y=\"-114.3\">input:</text>\n<polyline fill=\"none\" points=\"156,-106.5 211,-106.5 \" stroke=\"black\"/>\n<text font-family=\"Times,serif\" font-size=\"14.00\" text-anchor=\"middle\" x=\"183.5\" y=\"-91.3\">output:</text>\n<polyline fill=\"none\" points=\"211,-83.5 211,-129.5 \" stroke=\"black\"/>\n<text font-family=\"Times,serif\" font-size=\"14.00\" text-anchor=\"middle\" x=\"255.5\" y=\"-114.3\">(None, 6400)</text>\n<polyline fill=\"none\" points=\"211,-106.5 300,-106.5 \" stroke=\"black\"/>\n<text font-family=\"Times,serif\" font-size=\"14.00\" text-anchor=\"middle\" x=\"255.5\" y=\"-91.3\">(None, 128)</text>\n</g>\n<!-- 5531934416&#45;&gt;5528359760 -->\n<g class=\"edge\" id=\"edge5\">\n<title>5531934416-&gt;5528359760</title>\n<path d=\"M183.5,-166.37C183.5,-158.15 183.5,-148.66 183.5,-139.73\" fill=\"none\" stroke=\"black\"/>\n<polygon fill=\"black\" points=\"187,-139.61 183.5,-129.61 180,-139.61 187,-139.61\" stroke=\"black\"/>\n</g>\n<!-- 5529959824 -->\n<g class=\"node\" id=\"node7\">\n<title>5529959824</title>\n<polygon fill=\"none\" points=\"63.5,-0.5 63.5,-46.5 303.5,-46.5 303.5,-0.5 63.5,-0.5\" stroke=\"black\"/>\n<text font-family=\"Times,serif\" font-size=\"14.00\" text-anchor=\"middle\" x=\"114.5\" y=\"-19.8\">dense_1: Dense</text>\n<polyline fill=\"none\" points=\"165.5,-0.5 165.5,-46.5 \" stroke=\"black\"/>\n<text font-family=\"Times,serif\" font-size=\"14.00\" text-anchor=\"middle\" x=\"193\" y=\"-31.3\">input:</text>\n<polyline fill=\"none\" points=\"165.5,-23.5 220.5,-23.5 \" stroke=\"black\"/>\n<text font-family=\"Times,serif\" font-size=\"14.00\" text-anchor=\"middle\" x=\"193\" y=\"-8.3\">output:</text>\n<polyline fill=\"none\" points=\"220.5,-0.5 220.5,-46.5 \" stroke=\"black\"/>\n<text font-family=\"Times,serif\" font-size=\"14.00\" text-anchor=\"middle\" x=\"262\" y=\"-31.3\">(None, 128)</text>\n<polyline fill=\"none\" points=\"220.5,-23.5 303.5,-23.5 \" stroke=\"black\"/>\n<text font-family=\"Times,serif\" font-size=\"14.00\" text-anchor=\"middle\" x=\"262\" y=\"-8.3\">(None, 3)</text>\n</g>\n<!-- 5528359760&#45;&gt;5529959824 -->\n<g class=\"edge\" id=\"edge6\">\n<title>5528359760-&gt;5529959824</title>\n<path d=\"M183.5,-83.37C183.5,-75.15 183.5,-65.66 183.5,-56.73\" fill=\"none\" stroke=\"black\"/>\n<polygon fill=\"black\" points=\"187,-56.61 183.5,-46.61 180,-56.61 187,-56.61\" stroke=\"black\"/>\n</g>\n</g>\n</svg>"
     },
     "execution_count": 8,
     "metadata": {},
     "output_type": "execute_result"
    }
   ],
   "source": [
    "from IPython.display import SVG\n",
    "from keras.utils.vis_utils import model_to_dot\n",
    "\n",
    "%matplotlib inline\n",
    "\n",
    "SVG(model_to_dot(model, show_shapes=True, dpi=64).create(prog='dot', format='svg'))"
   ],
   "metadata": {
    "collapsed": false,
    "pycharm": {
     "name": "#%% 모델 가시화\n"
    }
   }
  }
 ],
 "metadata": {
  "kernelspec": {
   "display_name": "Python 3",
   "language": "python",
   "name": "python3"
  },
  "language_info": {
   "codemirror_mode": {
    "name": "ipython",
    "version": 2
   },
   "file_extension": ".py",
   "mimetype": "text/x-python",
   "name": "python",
   "nbconvert_exporter": "python",
   "pygments_lexer": "ipython2",
   "version": "2.7.6"
  }
 },
 "nbformat": 4,
 "nbformat_minor": 0
}