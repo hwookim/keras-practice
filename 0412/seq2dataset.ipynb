{
 "cells": [
  {
   "cell_type": "code",
   "execution_count": 8,
   "metadata": {
    "collapsed": true
   },
   "outputs": [
    {
     "name": "stdout",
     "output_type": "stream",
     "text": [
      "(50, 5)\n",
      "[[11  9  2 10  8]\n",
      " [ 9  2 10  8  1]\n",
      " [ 2 10  8  1  7]\n",
      " [10  8  1  7  8]\n",
      " [ 8  1  7  8  9]\n",
      " [ 1  7  8  9 10]\n",
      " [ 7  8  9 10 11]\n",
      " [ 8  9 10 11 11]\n",
      " [ 9 10 11 11  4]\n",
      " [10 11 11  4 11]\n",
      " [11 11  4 11  9]\n",
      " [11  4 11  9  9]\n",
      " [ 4 11  9  9  9]\n",
      " [11  9  9  9 10]\n",
      " [ 9  9  9 10  8]\n",
      " [ 9  9 10  8  1]\n",
      " [ 9 10  8  1  7]\n",
      " [10  8  1  7  9]\n",
      " [ 8  1  7  9 11]\n",
      " [ 1  7  9 11 11]\n",
      " [ 7  9 11 11  9]\n",
      " [ 9 11 11  9  9]\n",
      " [11 11  9  9  2]\n",
      " [11  9  9  2  8]\n",
      " [ 9  9  2  8  8]\n",
      " [ 9  2  8  8  8]\n",
      " [ 2  8  8  8  8]\n",
      " [ 8  8  8  8  8]\n",
      " [ 8  8  8  8  9]\n",
      " [ 8  8  8  9  3]\n",
      " [ 8  8  9  3  9]\n",
      " [ 8  9  3  9  9]\n",
      " [ 9  3  9  9  9]\n",
      " [ 3  9  9  9  9]\n",
      " [ 9  9  9  9  9]\n",
      " [ 9  9  9  9 10]\n",
      " [ 9  9  9 10  4]\n",
      " [ 9  9 10  4 11]\n",
      " [ 9 10  4 11  9]\n",
      " [10  4 11  9  2]\n",
      " [ 4 11  9  2 10]\n",
      " [11  9  2 10  8]\n",
      " [ 9  2 10  8  1]\n",
      " [ 2 10  8  1  7]\n",
      " [10  8  1  7  9]\n",
      " [ 8  1  7  9 11]\n",
      " [ 1  7  9 11 11]\n",
      " [ 7  9 11 11  9]\n",
      " [ 9 11 11  9  9]\n",
      " [11 11  9  9  2]]\n"
     ]
    }
   ],
   "source": [
    "from functions.seq2dataset import seq2dataset\n",
    "\n",
    "\n",
    "# 사전 만들기 (코드 <-> 숫자)\n",
    "code2idx = {'c4':0, 'd4':1, 'e4':2, 'f4':3, 'g4':4, 'a4':5, 'b4':6,\n",
    "            'c8':7, 'd8':8, 'e8':9, 'f8':10, 'g8':11, 'a8':12, 'b8':13}\n",
    "\n",
    "idx2code = {0:'c4', 1:'d4', 2:'e4', 3:'f4', 4:'g4', 5:'a4', 6:'b4',\n",
    "            7:'c8', 8:'d8', 9:'e8', 10:'f8', 11:'g8', 12:'a8', 13:'b8'}\n",
    "\n",
    "# 데이터셋 생성\n",
    "\n",
    "seq = ['g8', 'e8', 'e4', 'f8', 'd8', 'd4', 'c8', 'd8', 'e8', 'f8', 'g8', 'g8', 'g4',\n",
    "       'g8', 'e8', 'e8', 'e8', 'f8', 'd8', 'd4', 'c8', 'e8', 'g8', 'g8', 'e8', 'e8', 'e4',\n",
    "       'd8', 'd8', 'd8', 'd8', 'd8', 'e8', 'f4', 'e8', 'e8', 'e8', 'e8', 'e8', 'f8', 'g4',\n",
    "       'g8', 'e8', 'e4', 'f8', 'd8', 'd4', 'c8', 'e8', 'g8', 'g8', 'e8', 'e8', 'e4']\n",
    "\n",
    "dataset = seq2dataset(seq = seq, window_size = 4, code2idx = code2idx)\n",
    "\n",
    "print(dataset.shape)\n",
    "print(dataset)"
   ]
  }
 ],
 "metadata": {
  "kernelspec": {
   "display_name": "Python 3",
   "language": "python",
   "name": "python3"
  },
  "language_info": {
   "codemirror_mode": {
    "name": "ipython",
    "version": 2
   },
   "file_extension": ".py",
   "mimetype": "text/x-python",
   "name": "python",
   "nbconvert_exporter": "python",
   "pygments_lexer": "ipython2",
   "version": "2.7.6"
  }
 },
 "nbformat": 4,
 "nbformat_minor": 0
}